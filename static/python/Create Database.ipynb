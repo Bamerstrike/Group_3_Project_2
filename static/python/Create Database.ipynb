{
 "cells": [
  {
   "cell_type": "code",
   "execution_count": 1,
   "metadata": {},
   "outputs": [],
   "source": [
    "import pandas as pd\n",
    "import pymongo"
   ]
  },
  {
   "cell_type": "code",
   "execution_count": 2,
   "metadata": {},
   "outputs": [],
   "source": [
    "states_abbrev = [\"AL\", \"AK\", \"AZ\", \"AR\", \"CA\", \"CO\", \"CT\", \"DE\", \"FL\", \"GA\", \n",
    "          \"HI\", \"ID\", \"IL\", \"IN\", \"IA\", \"KS\", \"KY\", \"LA\", \"ME\", \"MD\", \n",
    "          \"MA\", \"MI\", \"MN\", \"MS\", \"MO\", \"MT\", \"NE\", \"NV\", \"NH\", \"NJ\", \n",
    "          \"NM\", \"NY\", \"NC\", \"ND\", \"OH\", \"OK\", \"OR\", \"PA\", \"RI\", \"SC\", \n",
    "          \"SD\", \"TN\", \"TX\", \"UT\", \"VT\", \"VA\", \"WA\", \"WV\", \"WI\", \"WY\"]"
   ]
  },
  {
   "cell_type": "code",
   "execution_count": 3,
   "metadata": {},
   "outputs": [],
   "source": [
    "states = [\"Alabama\",\"Alaska\",\"Arizona\",\"Arkansas\",\"California\",\"Colorado\",\n",
    "  \"Connecticut\",\"Delaware\",\"Florida\",\"Georgia\",\"Hawaii\",\"Idaho\",\"Illinois\",\n",
    "  \"Indiana\",\"Iowa\",\"Kansas\",\"Kentucky\",\"Louisiana\",\"Maine\",\"Maryland\",\n",
    "  \"Massachusetts\",\"Michigan\",\"Minnesota\",\"Mississippi\",\"Missouri\",\"Montana\",\n",
    "  \"Nebraska\",\"Nevada\",\"New Hampshire\",\"New Jersey\",\"New Mexico\",\"New York\",\n",
    "  \"North Carolina\",\"North Dakota\",\"Ohio\",\"Oklahoma\",\"Oregon\",\"Pennsylvania\",\n",
    "  \"Rhode Island\",\"South Carolina\",\"South Dakota\",\"Tennessee\",\"Texas\",\"Utah\",\n",
    "  \"Vermont\",\"Virginia\",\"Washington\",\"West Virginia\",\"Wisconsin\",\"Wyoming\"]\n"
   ]
  },
  {
   "cell_type": "code",
   "execution_count": 4,
   "metadata": {},
   "outputs": [],
   "source": [
    "Template_State = pd.DataFrame({\"States\":states,\n",
    "                              \"States_ab\":states_abbrev});"
   ]
  },
  {
   "cell_type": "code",
   "execution_count": 5,
   "metadata": {},
   "outputs": [],
   "source": [
    "Capital_Data = pd.read_csv(\"../data/50_states.csv\")"
   ]
  },
  {
   "cell_type": "code",
   "execution_count": 6,
   "metadata": {},
   "outputs": [],
   "source": [
    "Labor_Force_Data = pd.read_csv(\"../data/Labor Force Data.csv\")"
   ]
  },
  {
   "cell_type": "code",
   "execution_count": 7,
   "metadata": {
    "scrolled": true
   },
   "outputs": [],
   "source": [
    "Combined_Data = Template_State.merge(Capital_Data, left_on = \"States\", right_on=\"GeoName\")\n",
    "Combined_Data = Combined_Data.merge(Labor_Force_Data, left_on = \"States\", right_on=\"State\",how=\"inner\")\n",
    "\n",
    "Drop_Data = [\"GeoName\",\"LineCode\",\"2017:Q1\",\"2017:Q2\",\"2017:Q3\",\"State\"]\n",
    "Combined_Data = Combined_Data.drop(columns = Drop_Data)"
   ]
  },
  {
   "cell_type": "code",
   "execution_count": 8,
   "metadata": {},
   "outputs": [],
   "source": [
    "Starbucks_Locations = pd.read_csv(\"../data/us_directory.csv\")\n",
    "Starbucks_Locations = Starbucks_Locations.merge(Template_State, left_on = \"State/Province\", right_on=\"States_ab\")\n",
    "\n",
    "Drop_Data = [\"Unnamed: 0\",\"Brand\",\"Country\",\"Postcode\",\"Phone Number\",\"Timezone\",\"States_ab\"]\n",
    "Starbucks_Locations = Starbucks_Locations.drop(columns = Drop_Data)"
   ]
  },
  {
   "cell_type": "code",
   "execution_count": 9,
   "metadata": {},
   "outputs": [],
   "source": [
    "API_Data = {}\n",
    "\n",
    "States = Combined_Data[\"States\"].tolist()\n",
    "Labor_Force = Combined_Data[\"Labor Force\"].tolist()\n",
    "Personal_Income_Capital = Combined_Data[\"2017:Q4\"].tolist()"
   ]
  },
  {
   "cell_type": "code",
   "execution_count": 10,
   "metadata": {},
   "outputs": [],
   "source": [
    "API_Data = {}\n",
    "for i in range(len(Combined_Data)):\n",
    "    API_Data[States[i]] = {\"Labor Force\":Labor_Force[i],\n",
    "                          \"Personal Income Capital\":Personal_Income_Capital[i]}"
   ]
  },
  {
   "cell_type": "code",
   "execution_count": 24,
   "metadata": {},
   "outputs": [],
   "source": [
    "List_Of_Store_Numbers = []\n",
    "\n",
    "#For Each state\n",
    "for state in states:\n",
    "    #Find a dataframe with all the starbucks in that state\n",
    "    Locations_in_State = Starbucks_Locations[Starbucks_Locations[\"States\"]==state]\n",
    "    \n",
    "    API_Data[state][\"Store Count\"] = int(Locations_in_State[\"Store Number\"].count())\n",
    "    \n",
    "    #Creates a dictionary entry called \"Stores\" in each state\n",
    "    API_Data[state][\"Stores\"] = {}\n",
    "    Stores = API_Data[state][\"Stores\"]\n",
    "    List_Of_Store_Numbers.append(state)\n",
    "    \n",
    "    # For every store in \"Locations_in_State\" dataframe\n",
    "    for store in Locations_in_State[\"Store Number\"]:\n",
    "        # Create a dictionary entry for the store number\n",
    "        Stores[store] = {}\n",
    "        Store_Number = Stores[store]\n",
    "        # Finds the one data row corresponding to the store number\n",
    "        Store_Information = Locations_in_State[Locations_in_State[\"Store Number\"]==store]\n",
    "        # Creates details for each store\n",
    "        Store_Number[\"Ownership Type\"] = Store_Information.iloc[0,2]\n",
    "        Store_Number[\"Street Address\"] = Store_Information.iloc[0,3]\n",
    "        Store_Number[\"City\"] = Store_Information.iloc[0,4]\n",
    "        Store_Number[\"State\"] = Store_Information.iloc[0,5]\n",
    "        Store_Number[\"Longitude\"] = Store_Information.iloc[0,6]\n",
    "        Store_Number[\"Latitude\"] = Store_Information.iloc[0,7]\n",
    "    \n",
    " "
   ]
  },
  {
   "cell_type": "markdown",
   "metadata": {},
   "source": [
    "#Import to MongoDB with PyMongo\n"
   ]
  },
  {
   "cell_type": "code",
   "execution_count": 25,
   "metadata": {
    "scrolled": true
   },
   "outputs": [
    {
     "name": "stderr",
     "output_type": "stream",
     "text": [
      "C:\\Users\\Abraham\\Anaconda3\\envs\\PythonData\\lib\\site-packages\\ipykernel_launcher.py:6: DeprecationWarning: update is deprecated. Use replace_one, update_one or update_many instead.\n",
      "  \n",
      "C:\\Users\\Abraham\\Anaconda3\\envs\\PythonData\\lib\\site-packages\\ipykernel_launcher.py:11: DeprecationWarning: update is deprecated. Use replace_one, update_one or update_many instead.\n",
      "  # This is added back by InteractiveShellApp.init_path()\n"
     ]
    },
    {
     "data": {
      "text/plain": [
       "{'n': 1, 'nModified': 1, 'ok': 1.0, 'updatedExisting': True}"
      ]
     },
     "execution_count": 25,
     "metadata": {},
     "output_type": "execute_result"
    }
   ],
   "source": [
    "conn = \"mongodb://localhost:27017\"\n",
    "client = pymongo.MongoClient(conn)\n",
    "\n",
    "Starbucks_Information_db = client.StarbucksDB\n",
    "Information = Starbucks_Information_db.Information\n",
    "Information.update({},API_Data,upsert=True)\n",
    "\n",
    "List_Of_Stores = {\"Store\":Starbucks_Locations[\"Store Number\"].tolist()}\n",
    "\n",
    "Store_List = Starbucks_Information_db.Store_List\n",
    "Store_List.update({},List_Of_Stores,upsert=True)\n"
   ]
  },
  {
   "cell_type": "code",
   "execution_count": 22,
   "metadata": {},
   "outputs": [
    {
     "data": {
      "text/plain": [
       "{'Ownership Type': 'Company Owned',\n",
       " 'Street Address': '2208 Coffeen Ave',\n",
       " 'City': 'Sheridian',\n",
       " 'State': 'WY',\n",
       " 'Longitude': -106.94,\n",
       " 'Latitude': 44.77}"
      ]
     },
     "execution_count": 22,
     "metadata": {},
     "output_type": "execute_result"
    }
   ],
   "source": [
    "Store_Number"
   ]
  },
  {
   "cell_type": "code",
   "execution_count": 23,
   "metadata": {},
   "outputs": [
    {
     "data": {
      "text/plain": [
       "{'Labor Force': 291048,\n",
       " 'Personal Income Capital': 57516,\n",
       " 'Stores': {'21239-210245': {'Ownership Type': 'Company Owned',\n",
       "   'Street Address': '560 N Center Street',\n",
       "   'City': 'Casper',\n",
       "   'State': 'WY',\n",
       "   'Longitude': -106.33,\n",
       "   'Latitude': 42.86},\n",
       "  '9619-97642': {'Ownership Type': 'Company Owned',\n",
       "   'Street Address': '4585 East 2nd St.',\n",
       "   'City': 'Casper',\n",
       "   'State': 'WY',\n",
       "   'Longitude': -106.26,\n",
       "   'Latitude': 42.85},\n",
       "  '79668-108627': {'Ownership Type': 'Licensed',\n",
       "   'Street Address': '300 E Wyoming Blvd',\n",
       "   'City': 'Casper',\n",
       "   'State': 'WY',\n",
       "   'Longitude': -106.27,\n",
       "   'Latitude': 42.85},\n",
       "  '11862-103659': {'Ownership Type': 'Company Owned',\n",
       "   'Street Address': '4003 Cy Ave',\n",
       "   'City': 'Casper',\n",
       "   'State': 'WY',\n",
       "   'Longitude': -106.37,\n",
       "   'Latitude': 42.82},\n",
       "  '28265-237406': {'Ownership Type': 'Licensed',\n",
       "   'Street Address': '3702 Dell Range Blvd',\n",
       "   'City': 'Cheyenne',\n",
       "   'State': 'WY',\n",
       "   'Longitude': -104.76,\n",
       "   'Latitude': 41.16},\n",
       "  '74427-94041': {'Ownership Type': 'Licensed',\n",
       "   'Street Address': '700 S Greeley Hwy',\n",
       "   'City': 'Cheyenne',\n",
       "   'State': 'WY',\n",
       "   'Longitude': -104.8,\n",
       "   'Latitude': 41.11},\n",
       "  '73370-24376': {'Ownership Type': 'Licensed',\n",
       "   'Street Address': '3355 E. Pershing Blvd.',\n",
       "   'City': 'Cheyenne',\n",
       "   'State': 'WY',\n",
       "   'Longitude': -104.77,\n",
       "   'Latitude': 41.14},\n",
       "  '73277-27188': {'Ownership Type': 'Licensed',\n",
       "   'Street Address': '5800 Yellowstone Rd.',\n",
       "   'City': 'Cheyenne',\n",
       "   'State': 'WY',\n",
       "   'Longitude': -104.83,\n",
       "   'Latitude': 41.17},\n",
       "  '29314-251304': {'Ownership Type': 'Company Owned',\n",
       "   'Street Address': '5930Yellowstone Rd',\n",
       "   'City': 'Cheyenne',\n",
       "   'State': 'WY',\n",
       "   'Longitude': -104.83,\n",
       "   'Latitude': 41.17},\n",
       "  '11082-102939': {'Ownership Type': 'Company Owned',\n",
       "   'Street Address': '2111 Central Ave, Dell Range Marketplace',\n",
       "   'City': 'Cheyenne',\n",
       "   'State': 'WY',\n",
       "   'Longitude': -104.82,\n",
       "   'Latitude': 41.14},\n",
       "  '6515-63127': {'Ownership Type': 'Company Owned',\n",
       "   'Street Address': '3610 Dell Range Boulevard, Unit A6',\n",
       "   'City': 'Cheyenne',\n",
       "   'State': 'WY',\n",
       "   'Longitude': -104.77,\n",
       "   'Latitude': 41.16},\n",
       "  '17716-126790': {'Ownership Type': 'Licensed',\n",
       "   'Street Address': '1825 17th St',\n",
       "   'City': 'Cody',\n",
       "   'State': 'WY',\n",
       "   'Longitude': -109.05,\n",
       "   'Latitude': 44.52},\n",
       "  '73334-24378': {'Ownership Type': 'Licensed',\n",
       "   'Street Address': '2610 S. Douglas Hwy.',\n",
       "   'City': 'Gillette',\n",
       "   'State': 'WY',\n",
       "   'Longitude': -105.49,\n",
       "   'Latitude': 44.27},\n",
       "  '11320-103719': {'Ownership Type': 'Company Owned',\n",
       "   'Street Address': '1215 S Douglas Hwy',\n",
       "   'City': 'Gillette',\n",
       "   'State': 'WY',\n",
       "   'Longitude': -105.49,\n",
       "   'Latitude': 44.28},\n",
       "  '19240-195904': {'Ownership Type': 'Company Owned',\n",
       "   'Street Address': '10 East Broadway',\n",
       "   'City': 'Jackson',\n",
       "   'State': 'WY',\n",
       "   'Longitude': -110.76,\n",
       "   'Latitude': 43.48},\n",
       "  '16502-171825': {'Ownership Type': 'Licensed',\n",
       "   'Street Address': '105 Buffalo Way',\n",
       "   'City': 'Jackson',\n",
       "   'State': 'WY',\n",
       "   'Longitude': -110.79,\n",
       "   'Latitude': 43.47},\n",
       "  '18274-101208': {'Ownership Type': 'Licensed',\n",
       "   'Street Address': 'South Hwy 89 High School Rd',\n",
       "   'City': 'Jackson Hole',\n",
       "   'State': 'WY',\n",
       "   'Longitude': -110.75,\n",
       "   'Latitude': 43.48},\n",
       "  '22353-220004': {'Ownership Type': 'Licensed',\n",
       "   'Street Address': '1165 Main St.',\n",
       "   'City': 'Lander',\n",
       "   'State': 'WY',\n",
       "   'Longitude': -108.75,\n",
       "   'Latitude': 42.84},\n",
       "  '74385-87621': {'Ownership Type': 'Licensed',\n",
       "   'Street Address': '554 N 3rd St',\n",
       "   'City': 'Laramie',\n",
       "   'State': 'WY',\n",
       "   'Longitude': -105.59,\n",
       "   'Latitude': 41.32},\n",
       "  '73320-24375': {'Ownership Type': 'Licensed',\n",
       "   'Street Address': '3112 E. Grand',\n",
       "   'City': 'Laramie',\n",
       "   'State': 'WY',\n",
       "   'Longitude': -105.56,\n",
       "   'Latitude': 41.31},\n",
       "  '22425-219024': {'Ownership Type': 'Company Owned',\n",
       "   'Street Address': '3021 Grand Ave',\n",
       "   'City': 'Laramie',\n",
       "   'State': 'WY',\n",
       "   'Longitude': -105.56,\n",
       "   'Latitude': 41.31},\n",
       "  '10849-103163': {'Ownership Type': 'Company Owned',\n",
       "   'Street Address': '118 Westland Way',\n",
       "   'City': 'Rock Springs',\n",
       "   'State': 'WY',\n",
       "   'Longitude': -109.25,\n",
       "   'Latitude': 41.58},\n",
       "  '10769-102454': {'Ownership Type': 'Company Owned',\n",
       "   'Street Address': '2208 Coffeen Ave',\n",
       "   'City': 'Sheridian',\n",
       "   'State': 'WY',\n",
       "   'Longitude': -106.94,\n",
       "   'Latitude': 44.77}},\n",
       " 'Store Count': 23}"
      ]
     },
     "execution_count": 23,
     "metadata": {},
     "output_type": "execute_result"
    }
   ],
   "source": [
    "API_Data[state]"
   ]
  },
  {
   "cell_type": "code",
   "execution_count": null,
   "metadata": {},
   "outputs": [],
   "source": []
  }
 ],
 "metadata": {
  "kernelspec": {
   "display_name": "Python [conda env:PythonData]",
   "language": "python",
   "name": "conda-env-PythonData-py"
  },
  "language_info": {
   "codemirror_mode": {
    "name": "ipython",
    "version": 3
   },
   "file_extension": ".py",
   "mimetype": "text/x-python",
   "name": "python",
   "nbconvert_exporter": "python",
   "pygments_lexer": "ipython3",
   "version": "3.6.9"
  }
 },
 "nbformat": 4,
 "nbformat_minor": 2
}
