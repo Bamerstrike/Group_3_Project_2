{
 "cells": [
  {
   "cell_type": "code",
   "execution_count": 1,
   "metadata": {},
   "outputs": [],
   "source": [
    "import pandas as pd\n",
    "import pymongo"
   ]
  },
  {
   "cell_type": "code",
   "execution_count": 2,
   "metadata": {},
   "outputs": [],
   "source": [
    "states_abbrev = [\"AL\", \"AK\", \"AZ\", \"AR\", \"CA\", \"CO\", \"CT\", \"DE\", \"FL\", \"GA\", \n",
    "          \"HI\", \"ID\", \"IL\", \"IN\", \"IA\", \"KS\", \"KY\", \"LA\", \"ME\", \"MD\", \n",
    "          \"MA\", \"MI\", \"MN\", \"MS\", \"MO\", \"MT\", \"NE\", \"NV\", \"NH\", \"NJ\", \n",
    "          \"NM\", \"NY\", \"NC\", \"ND\", \"OH\", \"OK\", \"OR\", \"PA\", \"RI\", \"SC\", \n",
    "          \"SD\", \"TN\", \"TX\", \"UT\", \"VT\", \"VA\", \"WA\", \"WV\", \"WI\", \"WY\"]"
   ]
  },
  {
   "cell_type": "code",
   "execution_count": 3,
   "metadata": {},
   "outputs": [],
   "source": [
    "states = [\"Alabama\",\"Alaska\",\"Arizona\",\"Arkansas\",\"California\",\"Colorado\",\n",
    "  \"Connecticut\",\"Delaware\",\"Florida\",\"Georgia\",\"Hawaii\",\"Idaho\",\"Illinois\",\n",
    "  \"Indiana\",\"Iowa\",\"Kansas\",\"Kentucky\",\"Louisiana\",\"Maine\",\"Maryland\",\n",
    "  \"Massachusetts\",\"Michigan\",\"Minnesota\",\"Mississippi\",\"Missouri\",\"Montana\",\n",
    "  \"Nebraska\",\"Nevada\",\"New Hampshire\",\"New Jersey\",\"New Mexico\",\"New York\",\n",
    "  \"North Carolina\",\"North Dakota\",\"Ohio\",\"Oklahoma\",\"Oregon\",\"Pennsylvania\",\n",
    "  \"Rhode Island\",\"South Carolina\",\"South Dakota\",\"Tennessee\",\"Texas\",\"Utah\",\n",
    "  \"Vermont\",\"Virginia\",\"Washington\",\"West Virginia\",\"Wisconsin\",\"Wyoming\"]\n"
   ]
  },
  {
   "cell_type": "code",
   "execution_count": 4,
   "metadata": {},
   "outputs": [],
   "source": [
    "Template_State = pd.DataFrame({\"States\":states,\n",
    "                              \"States_ab\":states_abbrev});"
   ]
  },
  {
   "cell_type": "code",
   "execution_count": 5,
   "metadata": {},
   "outputs": [],
   "source": [
    "Capital_Data = pd.read_csv(\"../data/50_states.csv\")"
   ]
  },
  {
   "cell_type": "code",
   "execution_count": 6,
   "metadata": {},
   "outputs": [],
   "source": [
    "Labor_Force_Data = pd.read_csv(\"../data/Labor Force Data.csv\")"
   ]
  },
  {
   "cell_type": "code",
   "execution_count": 7,
   "metadata": {
    "scrolled": true
   },
   "outputs": [],
   "source": [
    "Combined_Data = Template_State.merge(Capital_Data, left_on = \"States\", right_on=\"GeoName\")\n",
    "Combined_Data = Combined_Data.merge(Labor_Force_Data, left_on = \"States\", right_on=\"State\",how=\"inner\")\n",
    "\n",
    "Drop_Data = [\"GeoName\",\"LineCode\",\"2017:Q1\",\"2017:Q2\",\"2017:Q3\",\"State\"]\n",
    "Combined_Data = Combined_Data.drop(columns = Drop_Data)"
   ]
  },
  {
   "cell_type": "code",
   "execution_count": 8,
   "metadata": {},
   "outputs": [],
   "source": [
    "Starbucks_Locations = pd.read_csv(\"../data/us_directory.csv\")\n",
    "Starbucks_Locations = Starbucks_Locations.merge(Template_State, left_on = \"State/Province\", right_on=\"States_ab\")\n",
    "\n",
    "Drop_Data = [\"Unnamed: 0\",\"Brand\",\"Country\",\"Postcode\",\"Phone Number\",\"Timezone\",\"States_ab\"]\n",
    "Starbucks_Locations = Starbucks_Locations.drop(columns = Drop_Data)"
   ]
  },
  {
   "cell_type": "code",
   "execution_count": 9,
   "metadata": {},
   "outputs": [],
   "source": [
    "API_Data = {}\n",
    "\n",
    "States = Combined_Data[\"States\"].tolist()\n",
    "Labor_Force = Combined_Data[\"Labor Force\"].tolist()\n",
    "Personal_Income_Capital = Combined_Data[\"2017:Q4\"].tolist()"
   ]
  },
  {
   "cell_type": "code",
   "execution_count": 10,
   "metadata": {},
   "outputs": [],
   "source": [
    "API_Data = {}\n",
    "for i in range(len(Combined_Data)):\n",
    "    API_Data[States[i]] = {\"Labor Force\":Labor_Force[i],\n",
    "                          \"Personal Income Capital\":Personal_Income_Capital[i]}"
   ]
  },
  {
   "cell_type": "code",
   "execution_count": 11,
   "metadata": {},
   "outputs": [],
   "source": [
    "List_Of_Store_Numbers = []\n",
    "\n",
    "#For Each state\n",
    "for state in states:\n",
    "    #Find a dataframe with all the starbucks in that state\n",
    "    Locations_in_State = Starbucks_Locations[Starbucks_Locations[\"States\"]==state]\n",
    "    API_Data[state][\"State\"] = state\n",
    "    API_Data[state][\"Store Count\"] = int(Locations_in_State[\"Store Number\"].count())\n",
    "    \n",
    "    #Creates a dictionary entry called \"Stores\" in each state\n",
    "    API_Data[state][\"Stores\"] = {}\n",
    "    Stores = API_Data[state][\"Stores\"]\n",
    "    List_Of_Store_Numbers.append(state)\n",
    "    \n",
    "    # For every store in \"Locations_in_State\" dataframe\n",
    "    for store in Locations_in_State[\"Store Number\"]:\n",
    "        # Create a dictionary entry for the store number\n",
    "        Stores[store] = {}\n",
    "        Store_Number = Stores[store]\n",
    "        # Finds the one data row corresponding to the store number\n",
    "        Store_Information = Locations_in_State[Locations_in_State[\"Store Number\"]==store]\n",
    "        # Creates details for each store\n",
    "        Store_Number[\"Ownership Type\"] = Store_Information.iloc[0,2]\n",
    "        Store_Number[\"Street Address\"] = Store_Information.iloc[0,3]\n",
    "        Store_Number[\"City\"] = Store_Information.iloc[0,4]\n",
    "        Store_Number[\"State\"] = Store_Information.iloc[0,5]\n",
    "        Store_Number[\"Longitude\"] = Store_Information.iloc[0,6]\n",
    "        Store_Number[\"Latitude\"] = Store_Information.iloc[0,7]\n",
    "    \n",
    " "
   ]
  },
  {
   "cell_type": "markdown",
   "metadata": {},
   "source": [
    "#Import to MongoDB with PyMongo\n"
   ]
  },
  {
   "cell_type": "code",
   "execution_count": 12,
   "metadata": {
    "scrolled": true
   },
   "outputs": [
    {
     "name": "stderr",
     "output_type": "stream",
     "text": [
      "C:\\Users\\Abraham\\Anaconda3\\envs\\PythonData\\lib\\site-packages\\ipykernel_launcher.py:6: DeprecationWarning: update is deprecated. Use replace_one, update_one or update_many instead.\n",
      "  \n",
      "C:\\Users\\Abraham\\Anaconda3\\envs\\PythonData\\lib\\site-packages\\ipykernel_launcher.py:11: DeprecationWarning: update is deprecated. Use replace_one, update_one or update_many instead.\n",
      "  # This is added back by InteractiveShellApp.init_path()\n"
     ]
    },
    {
     "data": {
      "text/plain": [
       "{'n': 1,\n",
       " 'nModified': 0,\n",
       " 'upserted': ObjectId('5e1a7cb121b31751222d09e8'),\n",
       " 'ok': 1.0,\n",
       " 'updatedExisting': False}"
      ]
     },
     "execution_count": 12,
     "metadata": {},
     "output_type": "execute_result"
    }
   ],
   "source": [
    "conn = \"mongodb://localhost:27017\"\n",
    "client = pymongo.MongoClient(conn)\n",
    "\n",
    "Starbucks_Information_db = client.StarbucksDB\n",
    "Information = Starbucks_Information_db.Information\n",
    "Information.update({},API_Data,upsert=True)\n",
    "\n",
    "List_Of_Stores = {\"Store\":Starbucks_Locations[\"Store Number\"].tolist()}\n",
    "\n",
    "Store_List = Starbucks_Information_db.Store_List\n",
    "Store_List.update({},List_Of_Stores,upsert=True)\n"
   ]
  },
  {
   "cell_type": "code",
   "execution_count": null,
   "metadata": {},
   "outputs": [],
   "source": []
  }
 ],
 "metadata": {
  "kernelspec": {
   "display_name": "Python [conda env:PythonData]",
   "language": "python",
   "name": "conda-env-PythonData-py"
  },
  "language_info": {
   "codemirror_mode": {
    "name": "ipython",
    "version": 3
   },
   "file_extension": ".py",
   "mimetype": "text/x-python",
   "name": "python",
   "nbconvert_exporter": "python",
   "pygments_lexer": "ipython3",
   "version": "3.6.9"
  }
 },
 "nbformat": 4,
 "nbformat_minor": 2
}
