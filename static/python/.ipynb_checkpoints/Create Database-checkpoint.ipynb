{
 "cells": [
  {
   "cell_type": "code",
   "execution_count": 1,
   "metadata": {},
   "outputs": [],
   "source": [
    "# Call libraries for data cleaning and data pushing\n",
    "import pandas as pd\n",
    "import pymongo"
   ]
  },
  {
   "cell_type": "code",
   "execution_count": 2,
   "metadata": {},
   "outputs": [],
   "source": [
    "# List of states' abbreviation in alphabetical order\n",
    "states_abbrev = [\"AL\", \"AK\", \"AZ\", \"AR\", \"CA\", \"CO\", \"CT\", \"DE\", \"FL\", \"GA\", \n",
    "          \"HI\", \"ID\", \"IL\", \"IN\", \"IA\", \"KS\", \"KY\", \"LA\", \"ME\", \"MD\", \n",
    "          \"MA\", \"MI\", \"MN\", \"MS\", \"MO\", \"MT\", \"NE\", \"NV\", \"NH\", \"NJ\", \n",
    "          \"NM\", \"NY\", \"NC\", \"ND\", \"OH\", \"OK\", \"OR\", \"PA\", \"RI\", \"SC\", \n",
    "          \"SD\", \"TN\", \"TX\", \"UT\", \"VT\", \"VA\", \"WA\", \"WV\", \"WI\", \"WY\"]"
   ]
  },
  {
   "cell_type": "code",
   "execution_count": 3,
   "metadata": {},
   "outputs": [],
   "source": [
    "# List of states in alphabetical order\n",
    "states = [\"Alabama\",\"Alaska\",\"Arizona\",\"Arkansas\",\"California\",\"Colorado\",\n",
    "  \"Connecticut\",\"Delaware\",\"Florida\",\"Georgia\",\"Hawaii\",\"Idaho\",\"Illinois\",\n",
    "  \"Indiana\",\"Iowa\",\"Kansas\",\"Kentucky\",\"Louisiana\",\"Maine\",\"Maryland\",\n",
    "  \"Massachusetts\",\"Michigan\",\"Minnesota\",\"Mississippi\",\"Missouri\",\"Montana\",\n",
    "  \"Nebraska\",\"Nevada\",\"New Hampshire\",\"New Jersey\",\"New Mexico\",\"New York\",\n",
    "  \"North Carolina\",\"North Dakota\",\"Ohio\",\"Oklahoma\",\"Oregon\",\"Pennsylvania\",\n",
    "  \"Rhode Island\",\"South Carolina\",\"South Dakota\",\"Tennessee\",\"Texas\",\"Utah\",\n",
    "  \"Vermont\",\"Virginia\",\"Washington\",\"West Virginia\",\"Wisconsin\",\"Wyoming\"]\n"
   ]
  },
  {
   "cell_type": "code",
   "execution_count": 4,
   "metadata": {},
   "outputs": [],
   "source": [
    "# Create a dataframe for the states and its' abbreviations\n",
    "Template_State = pd.DataFrame({\"States\":states,\n",
    "                              \"States_ab\":states_abbrev});"
   ]
  },
  {
   "cell_type": "code",
   "execution_count": 5,
   "metadata": {},
   "outputs": [],
   "source": [
    "# Import csv files for data merging and cleaning\n",
    "Capital_Data = pd.read_csv(\"../data/50_states.csv\")\n",
    "Labor_Force_Data = pd.read_csv(\"../data/Labor Force Data.csv\")"
   ]
  },
  {
   "cell_type": "code",
   "execution_count": 6,
   "metadata": {
    "scrolled": true
   },
   "outputs": [],
   "source": [
    "# Merge both datasets \n",
    "Combined_Data = Template_State.merge(Capital_Data, left_on = \"States\", right_on=\"GeoName\")\n",
    "Combined_Data = Combined_Data.merge(Labor_Force_Data, left_on = \"States\", right_on=\"State\",how=\"inner\")\n",
    "\n",
    "# Drop unnecssary data\n",
    "Drop_Data = [\"GeoName\",\"LineCode\",\"2017:Q1\",\"2017:Q2\",\"2017:Q3\",\"State\"]\n",
    "Combined_Data = Combined_Data.drop(columns = Drop_Data)"
   ]
  },
  {
   "cell_type": "code",
   "execution_count": 12,
   "metadata": {},
   "outputs": [
    {
     "data": {
      "text/html": [
       "<div>\n",
       "<style scoped>\n",
       "    .dataframe tbody tr th:only-of-type {\n",
       "        vertical-align: middle;\n",
       "    }\n",
       "\n",
       "    .dataframe tbody tr th {\n",
       "        vertical-align: top;\n",
       "    }\n",
       "\n",
       "    .dataframe thead th {\n",
       "        text-align: right;\n",
       "    }\n",
       "</style>\n",
       "<table border=\"1\" class=\"dataframe\">\n",
       "  <thead>\n",
       "    <tr style=\"text-align: right;\">\n",
       "      <th></th>\n",
       "      <th>States</th>\n",
       "      <th>States_ab</th>\n",
       "      <th>Description</th>\n",
       "      <th>2017:Q4</th>\n",
       "      <th>Yearly Avg</th>\n",
       "      <th>Labor Force</th>\n",
       "    </tr>\n",
       "  </thead>\n",
       "  <tbody>\n",
       "    <tr>\n",
       "      <td>0</td>\n",
       "      <td>Alabama</td>\n",
       "      <td>AL</td>\n",
       "      <td>Per capita personal income (dollars) 2/</td>\n",
       "      <td>41079</td>\n",
       "      <td>40459.25</td>\n",
       "      <td>2181333</td>\n",
       "    </tr>\n",
       "    <tr>\n",
       "      <td>1</td>\n",
       "      <td>Alaska</td>\n",
       "      <td>AK</td>\n",
       "      <td>Per capita personal income (dollars) 2/</td>\n",
       "      <td>57527</td>\n",
       "      <td>56794.75</td>\n",
       "      <td>358859</td>\n",
       "    </tr>\n",
       "    <tr>\n",
       "      <td>2</td>\n",
       "      <td>Arizona</td>\n",
       "      <td>AZ</td>\n",
       "      <td>Per capita personal income (dollars) 2/</td>\n",
       "      <td>43128</td>\n",
       "      <td>42481.75</td>\n",
       "      <td>3368789</td>\n",
       "    </tr>\n",
       "    <tr>\n",
       "      <td>3</td>\n",
       "      <td>Arkansas</td>\n",
       "      <td>AR</td>\n",
       "      <td>Per capita personal income (dollars) 2/</td>\n",
       "      <td>42011</td>\n",
       "      <td>41517.50</td>\n",
       "      <td>1350866</td>\n",
       "    </tr>\n",
       "    <tr>\n",
       "      <td>4</td>\n",
       "      <td>California</td>\n",
       "      <td>CA</td>\n",
       "      <td>Per capita personal income (dollars) 2/</td>\n",
       "      <td>61474</td>\n",
       "      <td>60152.50</td>\n",
       "      <td>19252711</td>\n",
       "    </tr>\n",
       "  </tbody>\n",
       "</table>\n",
       "</div>"
      ],
      "text/plain": [
       "       States States_ab                              Description  2017:Q4  \\\n",
       "0     Alabama        AL  Per capita personal income (dollars) 2/    41079   \n",
       "1      Alaska        AK  Per capita personal income (dollars) 2/    57527   \n",
       "2     Arizona        AZ  Per capita personal income (dollars) 2/    43128   \n",
       "3    Arkansas        AR  Per capita personal income (dollars) 2/    42011   \n",
       "4  California        CA  Per capita personal income (dollars) 2/    61474   \n",
       "\n",
       "   Yearly Avg  Labor Force  \n",
       "0    40459.25      2181333  \n",
       "1    56794.75       358859  \n",
       "2    42481.75      3368789  \n",
       "3    41517.50      1350866  \n",
       "4    60152.50     19252711  "
      ]
     },
     "execution_count": 12,
     "metadata": {},
     "output_type": "execute_result"
    }
   ],
   "source": [
    "Starbucks_Locations = pd.read_csv(\"../data/us_directory.csv\")\n",
    "Starbucks_Locations = Starbucks_Locations.merge(Template_State, left_on = \"State/Province\", right_on=\"States_ab\")\n",
    "\n",
    "Drop_Data = [\"Unnamed: 0\",\"Brand\",\"Country\",\"Postcode\",\"Phone Number\",\"Timezone\",\"States_ab\"]\n",
    "Starbucks_Locations = Starbucks_Locations.drop(columns = Drop_Data)\n",
    "\n",
    "Combined_Data.head()"
   ]
  },
  {
   "cell_type": "code",
   "execution_count": 8,
   "metadata": {},
   "outputs": [],
   "source": [
    "# Create a dictionary for upcoming api to insert into MongoDB\n",
    "API_Data = {}\n",
    "\n",
    "States = Combined_Data[\"States\"].tolist()\n",
    "Labor_Force = Combined_Data[\"Labor Force\"].tolist()\n",
    "Personal_Income_Capital = Combined_Data[\"2017:Q4\"].tolist()"
   ]
  },
  {
   "cell_type": "code",
   "execution_count": 9,
   "metadata": {},
   "outputs": [],
   "source": [
    "for i in range(len(Combined_Data)):\n",
    "    API_Data[States[i]] = {\"Labor Force\":Labor_Force[i],\n",
    "                          \"Personal Income Capital\":Personal_Income_Capital[i]}"
   ]
  },
  {
   "cell_type": "code",
   "execution_count": 10,
   "metadata": {},
   "outputs": [],
   "source": [
    "List_Of_Store_Numbers = []\n",
    "\n",
    "#For Each state\n",
    "for state in states:\n",
    "    #Find a dataframe with all the starbucks in that state\n",
    "    Locations_in_State = Starbucks_Locations[Starbucks_Locations[\"States\"]==state]\n",
    "    API_Data[state][\"State\"] = state\n",
    "    API_Data[state][\"Store Count\"] = int(Locations_in_State[\"Store Number\"].count())\n",
    "    \n",
    "    #Creates a dictionary entry called \"Stores\" in each state\n",
    "    API_Data[state][\"Stores\"] = {}\n",
    "    Stores = API_Data[state][\"Stores\"]\n",
    "    List_Of_Store_Numbers.append(state)\n",
    "    \n",
    "    # For every store in \"Locations_in_State\" dataframe\n",
    "    for store in Locations_in_State[\"Store Number\"]:\n",
    "        # Create a dictionary entry for the store number\n",
    "        Stores[store] = {}\n",
    "        Store_Number = Stores[store]\n",
    "        # Finds the one data row corresponding to the store number\n",
    "        Store_Information = Locations_in_State[Locations_in_State[\"Store Number\"]==store]\n",
    "        # Creates details for each store\n",
    "        Store_Number[\"Ownership Type\"] = Store_Information.iloc[0,2]\n",
    "        Store_Number[\"Street Address\"] = Store_Information.iloc[0,3]\n",
    "        Store_Number[\"City\"] = Store_Information.iloc[0,4]\n",
    "        Store_Number[\"State\"] = Store_Information.iloc[0,5]\n",
    "        Store_Number[\"Longitude\"] = Store_Information.iloc[0,6]\n",
    "        Store_Number[\"Latitude\"] = Store_Information.iloc[0,7]\n",
    "    \n",
    " "
   ]
  },
  {
   "cell_type": "markdown",
   "metadata": {},
   "source": [
    "#Import to MongoDB with PyMongo\n"
   ]
  },
  {
   "cell_type": "code",
   "execution_count": 11,
   "metadata": {
    "scrolled": true
   },
   "outputs": [
    {
     "name": "stderr",
     "output_type": "stream",
     "text": [
      "C:\\Users\\Abraham\\Anaconda3\\envs\\PythonData\\lib\\site-packages\\ipykernel_launcher.py:13: DeprecationWarning: update is deprecated. Use replace_one, update_one or update_many instead.\n",
      "  del sys.path[0]\n",
      "C:\\Users\\Abraham\\Anaconda3\\envs\\PythonData\\lib\\site-packages\\ipykernel_launcher.py:18: DeprecationWarning: update is deprecated. Use replace_one, update_one or update_many instead.\n"
     ]
    },
    {
     "data": {
      "text/plain": [
       "{'n': 1, 'nModified': 1, 'ok': 1.0, 'updatedExisting': True}"
      ]
     },
     "execution_count": 11,
     "metadata": {},
     "output_type": "execute_result"
    }
   ],
   "source": [
    "# Create a link between Mongodb and python\n",
    "conn = \"mongodb://localhost:27017\"\n",
    "# Create a client so we can interact with mongodb\n",
    "client = pymongo.MongoClient(conn)\n",
    "\n",
    "# Call up StarbucksDB database\n",
    "Starbucks_Information_db = client.StarbucksDB\n",
    "\n",
    "# Call up Information collection\n",
    "Information = Starbucks_Information_db.Information\n",
    "\n",
    "# Insert API_Data to information collection\n",
    "Information.update({},API_Data,upsert=True)\n",
    "\n",
    "List_Of_Stores = {\"Store\":Starbucks_Locations[\"Store Number\"].tolist()}\n",
    "\n",
    "Store_List = Starbucks_Information_db.Store_List\n",
    "Store_List.update({},List_Of_Stores,upsert=True)\n"
   ]
  },
  {
   "cell_type": "code",
   "execution_count": null,
   "metadata": {},
   "outputs": [],
   "source": []
  }
 ],
 "metadata": {
  "kernelspec": {
   "display_name": "Python [conda env:PythonData]",
   "language": "python",
   "name": "conda-env-PythonData-py"
  },
  "language_info": {
   "codemirror_mode": {
    "name": "ipython",
    "version": 3
   },
   "file_extension": ".py",
   "mimetype": "text/x-python",
   "name": "python",
   "nbconvert_exporter": "python",
   "pygments_lexer": "ipython3",
   "version": "3.6.9"
  }
 },
 "nbformat": 4,
 "nbformat_minor": 2
}
