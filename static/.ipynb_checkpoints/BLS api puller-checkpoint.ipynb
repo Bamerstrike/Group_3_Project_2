{
 "cells": [
  {
   "cell_type": "markdown",
   "metadata": {},
   "source": [
    "https://beta.bls.gov/dataQuery/find?fq=survey:[ln]&s=popularity:D"
   ]
  },
  {
   "cell_type": "code",
   "execution_count": 77,
   "metadata": {},
   "outputs": [],
   "source": [
    "import requests\n",
    "import json\n",
    "import pandas as pd\n",
    "from bs4 import BeautifulSoup as bs"
   ]
  },
  {
   "cell_type": "code",
   "execution_count": 78,
   "metadata": {},
   "outputs": [
    {
     "data": {
      "text/plain": [
       "['LASST010000000000006']"
      ]
     },
     "execution_count": 78,
     "metadata": {},
     "output_type": "execute_result"
    }
   ],
   "source": [
    "state_number = list(range(1,57))\n",
    "Series_ID = [\"LASST010000000000006\"]\n",
    "# Series_ID = [];\n",
    "# for i in state_number:\n",
    "#     if i < 10:\n",
    "#         Series_ID.append(\"LASST0\"+str(i)+\"0000000000006\")\n",
    "#     else:    \n",
    "#         Series_ID.append(\"LASST\"+str(i)+\"0000000000006\")\n",
    "#     # last number indicates different data types, 3,4,5,6,7 is available\n",
    "\n",
    "SaveFileAs = \"Employment Data\"\n",
    "Series_ID"
   ]
  },
  {
   "cell_type": "code",
   "execution_count": 79,
   "metadata": {
    "scrolled": true
   },
   "outputs": [],
   "source": [
    "#Get your jsonified api data here\n",
    "\n",
    "#Choose years of data to collect\n",
    "startyear = 2017\n",
    "endyear = 2017\n",
    "\n",
    "base_URL = \"https://api.bls.gov/publicAPI/v2/timeseries/data/\"\n",
    "    \n",
    "headers = {'Content-type': 'application/json'}\n",
    "\n",
    "data = json.dumps({\"seriesid\": Series_ID,\"startyear\":startyear, \"endyear\":endyear,\"registrationkey\":\"a1996666110d420cbf38f706289109f6\"})\n",
    "\n",
    "# Request for api data\n",
    "Complete_Data = requests.post(f\"{base_URL}\",data=data, headers=headers)\n",
    "\n",
    "# jsonify the data\n",
    "Complete_Data = Complete_Data.json()\n",
    "\n",
    "# for loop to iterate through the api data and grab all the important information\n",
    "# for i in Complete_Data[\"Results\"][\"series\"][0][\"data\"]:\n",
    "#     Years.append(i[\"year\"])\n",
    "#     Months.append(int(i[\"period\"].replace('M', '')))\n",
    "#     Unemployment_Rate.append(i[\"value\"])\n",
    "\n",
    "# Complete_Data\n",
    "\n"
   ]
  },
  {
   "cell_type": "code",
   "execution_count": 80,
   "metadata": {},
   "outputs": [
    {
     "data": {
      "text/plain": [
       "{'status': 'REQUEST_SUCCEEDED',\n",
       " 'responseTime': 93,\n",
       " 'message': [],\n",
       " 'Results': {'series': [{'seriesID': 'LASST010000000000006',\n",
       "    'data': [{'year': '2017',\n",
       "      'period': 'M12',\n",
       "      'periodName': 'December',\n",
       "      'value': '2181333',\n",
       "      'footnotes': [{}]},\n",
       "     {'year': '2017',\n",
       "      'period': 'M11',\n",
       "      'periodName': 'November',\n",
       "      'value': '2179645',\n",
       "      'footnotes': [{}]},\n",
       "     {'year': '2017',\n",
       "      'period': 'M10',\n",
       "      'periodName': 'October',\n",
       "      'value': '2178449',\n",
       "      'footnotes': [{}]},\n",
       "     {'year': '2017',\n",
       "      'period': 'M09',\n",
       "      'periodName': 'September',\n",
       "      'value': '2177406',\n",
       "      'footnotes': [{}]},\n",
       "     {'year': '2017',\n",
       "      'period': 'M08',\n",
       "      'periodName': 'August',\n",
       "      'value': '2176378',\n",
       "      'footnotes': [{}]},\n",
       "     {'year': '2017',\n",
       "      'period': 'M07',\n",
       "      'periodName': 'July',\n",
       "      'value': '2175353',\n",
       "      'footnotes': [{}]},\n",
       "     {'year': '2017',\n",
       "      'period': 'M06',\n",
       "      'periodName': 'June',\n",
       "      'value': '2174753',\n",
       "      'footnotes': [{}]},\n",
       "     {'year': '2017',\n",
       "      'period': 'M05',\n",
       "      'periodName': 'May',\n",
       "      'value': '2175151',\n",
       "      'footnotes': [{}]},\n",
       "     {'year': '2017',\n",
       "      'period': 'M04',\n",
       "      'periodName': 'April',\n",
       "      'value': '2176593',\n",
       "      'footnotes': [{}]},\n",
       "     {'year': '2017',\n",
       "      'period': 'M03',\n",
       "      'periodName': 'March',\n",
       "      'value': '2178892',\n",
       "      'footnotes': [{}]},\n",
       "     {'year': '2017',\n",
       "      'period': 'M02',\n",
       "      'periodName': 'February',\n",
       "      'value': '2181597',\n",
       "      'footnotes': [{}]},\n",
       "     {'year': '2017',\n",
       "      'period': 'M01',\n",
       "      'periodName': 'January',\n",
       "      'value': '2184038',\n",
       "      'footnotes': [{}]}]}]}}"
      ]
     },
     "execution_count": 80,
     "metadata": {},
     "output_type": "execute_result"
    }
   ],
   "source": [
    "Complete_Data"
   ]
  },
  {
   "cell_type": "code",
   "execution_count": 81,
   "metadata": {
    "scrolled": true
   },
   "outputs": [
    {
     "data": {
      "text/plain": [
       "'2181333'"
      ]
     },
     "execution_count": 81,
     "metadata": {},
     "output_type": "execute_result"
    }
   ],
   "source": [
    "General_Data = Complete_Data[\"Results\"][\"series\"][0][\"data\"][0]\n",
    "General_Data\n",
    "year = General_Data[\"year\"]\n",
    "Labor_Force = General_Data[\"value\"]\n",
    "Labor_Force"
   ]
  },
  {
   "cell_type": "code",
   "execution_count": 116,
   "metadata": {},
   "outputs": [
    {
     "data": {
      "text/plain": [
       "'Alabama'"
      ]
     },
     "execution_count": 116,
     "metadata": {},
     "output_type": "execute_result"
    }
   ],
   "source": [
    "#Beautiful Soup to get state of data\n",
    "website = \"https://beta.bls.gov/dataViewer/view/timeseries/\"\n",
    "url = website+Series_ID[0];\n",
    "\n",
    "response = requests.get(url)\n",
    "soup = bs(response.text, \"html.parser\")\n",
    "\n",
    "# state = soup.find_all(\"text\")\n",
    "# state\n",
    "\n",
    "table_text = soup.find_all(\"table\",{\"id\": \"catalogDataTable1\"})\n",
    "state = table_text[0].find(\"tr\").find_all(\"td\")[2].text\n",
    "state = state.replace(\"Labor Force: \",\"\").replace(\" (S)\",\"\")\n",
    "state"
   ]
  },
  {
   "cell_type": "code",
   "execution_count": 4,
   "metadata": {},
   "outputs": [
    {
     "data": {
      "text/html": [
       "<div>\n",
       "<style scoped>\n",
       "    .dataframe tbody tr th:only-of-type {\n",
       "        vertical-align: middle;\n",
       "    }\n",
       "\n",
       "    .dataframe tbody tr th {\n",
       "        vertical-align: top;\n",
       "    }\n",
       "\n",
       "    .dataframe thead th {\n",
       "        text-align: right;\n",
       "    }\n",
       "</style>\n",
       "<table border=\"1\" class=\"dataframe\">\n",
       "  <thead>\n",
       "    <tr style=\"text-align: right;\">\n",
       "      <th></th>\n",
       "      <th>Years</th>\n",
       "      <th>Months</th>\n",
       "      <th>Unemployment Rate</th>\n",
       "    </tr>\n",
       "  </thead>\n",
       "  <tbody>\n",
       "    <tr>\n",
       "      <td>0</td>\n",
       "      <td>2019</td>\n",
       "      <td>11</td>\n",
       "      <td>12.0</td>\n",
       "    </tr>\n",
       "    <tr>\n",
       "      <td>1</td>\n",
       "      <td>2019</td>\n",
       "      <td>10</td>\n",
       "      <td>12.3</td>\n",
       "    </tr>\n",
       "    <tr>\n",
       "      <td>2</td>\n",
       "      <td>2019</td>\n",
       "      <td>9</td>\n",
       "      <td>12.5</td>\n",
       "    </tr>\n",
       "    <tr>\n",
       "      <td>3</td>\n",
       "      <td>2019</td>\n",
       "      <td>8</td>\n",
       "      <td>12.6</td>\n",
       "    </tr>\n",
       "    <tr>\n",
       "      <td>4</td>\n",
       "      <td>2019</td>\n",
       "      <td>7</td>\n",
       "      <td>12.8</td>\n",
       "    </tr>\n",
       "    <tr>\n",
       "      <td>...</td>\n",
       "      <td>...</td>\n",
       "      <td>...</td>\n",
       "      <td>...</td>\n",
       "    </tr>\n",
       "    <tr>\n",
       "      <td>714</td>\n",
       "      <td>1960</td>\n",
       "      <td>5</td>\n",
       "      <td>13.9</td>\n",
       "    </tr>\n",
       "    <tr>\n",
       "      <td>715</td>\n",
       "      <td>1960</td>\n",
       "      <td>4</td>\n",
       "      <td>14.2</td>\n",
       "    </tr>\n",
       "    <tr>\n",
       "      <td>716</td>\n",
       "      <td>1960</td>\n",
       "      <td>3</td>\n",
       "      <td>15.6</td>\n",
       "    </tr>\n",
       "    <tr>\n",
       "      <td>717</td>\n",
       "      <td>1960</td>\n",
       "      <td>2</td>\n",
       "      <td>13.1</td>\n",
       "    </tr>\n",
       "    <tr>\n",
       "      <td>718</td>\n",
       "      <td>1960</td>\n",
       "      <td>1</td>\n",
       "      <td>14.6</td>\n",
       "    </tr>\n",
       "  </tbody>\n",
       "</table>\n",
       "<p>719 rows × 3 columns</p>\n",
       "</div>"
      ],
      "text/plain": [
       "    Years  Months Unemployment Rate\n",
       "0    2019      11              12.0\n",
       "1    2019      10              12.3\n",
       "2    2019       9              12.5\n",
       "3    2019       8              12.6\n",
       "4    2019       7              12.8\n",
       "..    ...     ...               ...\n",
       "714  1960       5              13.9\n",
       "715  1960       4              14.2\n",
       "716  1960       3              15.6\n",
       "717  1960       2              13.1\n",
       "718  1960       1              14.6\n",
       "\n",
       "[719 rows x 3 columns]"
      ]
     },
     "execution_count": 4,
     "metadata": {},
     "output_type": "execute_result"
    }
   ],
   "source": [
    "Collected_Data = pd.DataFrame({\"Years\":Years,\n",
    "                              \"Months\":Months,\n",
    "                              \"Unemployment Rate\":Unemployment_Rate})\n",
    "\n",
    "Collected_Data"
   ]
  },
  {
   "cell_type": "code",
   "execution_count": 23,
   "metadata": {},
   "outputs": [],
   "source": [
    "Collected_Data.to_csv(SaveFileAs,index=False)"
   ]
  },
  {
   "cell_type": "code",
   "execution_count": null,
   "metadata": {},
   "outputs": [],
   "source": []
  }
 ],
 "metadata": {
  "kernelspec": {
   "display_name": "Python [conda env:PythonData]",
   "language": "python",
   "name": "conda-env-PythonData-py"
  },
  "language_info": {
   "codemirror_mode": {
    "name": "ipython",
    "version": 3
   },
   "file_extension": ".py",
   "mimetype": "text/x-python",
   "name": "python",
   "nbconvert_exporter": "python",
   "pygments_lexer": "ipython3",
   "version": "3.6.9"
  }
 },
 "nbformat": 4,
 "nbformat_minor": 2
}
