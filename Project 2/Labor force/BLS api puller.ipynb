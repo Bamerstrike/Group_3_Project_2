{
 "cells": [
  {
   "cell_type": "markdown",
   "metadata": {},
   "source": [
    "https://beta.bls.gov/dataQuery/find?fq=survey:[ln]&s=popularity:D"
   ]
  },
  {
   "cell_type": "code",
   "execution_count": 1,
   "metadata": {},
   "outputs": [],
   "source": [
    "import requests\n",
    "import json\n",
    "import pandas as pd\n",
    "from bs4 import BeautifulSoup as bs"
   ]
  },
  {
   "cell_type": "code",
   "execution_count": 2,
   "metadata": {},
   "outputs": [],
   "source": [
    "state_number = list(range(1,57))\n",
    "# Series_ID = [\"LASST060000000000006\"]\n",
    "Series_ID = [];\n",
    "for i in state_number:\n",
    "    if i < 10:\n",
    "        Series_ID.append(\"LASST0\"+str(i)+\"0000000000006\")\n",
    "    else:    \n",
    "        Series_ID.append(\"LASST\"+str(i)+\"0000000000006\")\n",
    "    # last number indicates different data types, 3,4,5,6,7 is available\n",
    "\n",
    "SaveFileAs = \"Labor Force Data.csv\""
   ]
  },
  {
   "cell_type": "code",
   "execution_count": 3,
   "metadata": {
    "scrolled": true
   },
   "outputs": [
    {
     "name": "stdout",
     "output_type": "stream",
     "text": [
      "<class 'IndexError'>\n",
      "<class 'IndexError'>\n",
      "<class 'IndexError'>\n",
      "<class 'IndexError'>\n",
      "<class 'IndexError'>\n"
     ]
    }
   ],
   "source": [
    "#Get your jsonified api data here\n",
    "\n",
    "#Collecting only 2017 Data\n",
    "startyear = 2017\n",
    "endyear = 2017\n",
    "\n",
    "base_URL = \"https://api.bls.gov/publicAPI/v2/timeseries/data/\"\n",
    "    \n",
    "headers = {'Content-type': 'application/json'}\n",
    "\n",
    "State = []\n",
    "Labor_Force = []\n",
    "\n",
    "for this_data in Series_ID:\n",
    "    #Collect data for this series ID\n",
    "    data = json.dumps({\"seriesid\": [this_data],\"startyear\":startyear, \"endyear\":endyear,\"registrationkey\":\"a1996666110d420cbf38f706289109f6\"})\n",
    "    # Request for api data\n",
    "    Complete_Data = requests.post(f\"{base_URL}\",data=data, headers=headers)\n",
    "    # jsonify the data\n",
    "    Complete_Data = Complete_Data.json()\n",
    "    \n",
    "    try:\n",
    "        this_Labor_Force= Complete_Data[\"Results\"][\"series\"][0][\"data\"][0][\"value\"]\n",
    "        Labor_Force.append(this_Labor_Force)\n",
    "        \n",
    "        #Beautiful Soup to get state of data\n",
    "        website = \"https://beta.bls.gov/dataViewer/view/timeseries/\"\n",
    "        url = website+this_data;\n",
    "\n",
    "        response = requests.get(url)\n",
    "        soup = bs(response.text, \"html.parser\")\n",
    "\n",
    "        table_text = soup.find_all(\"table\",{\"id\": \"catalogDataTable1\"})\n",
    "        this_state = table_text[0].find(\"tr\").find_all(\"td\")[2].text\n",
    "        this_state = this_state.replace(\"Labor Force: \",\"\").replace(\" (S)\",\"\")\n",
    "        State.append(this_state)\n",
    "        \n",
    "    except(IndexError):\n",
    "        print(IndexError)\n",
    "    \n",
    "    #Beautiful Soup to get state of data\n",
    "#     website = \"https://beta.bls.gov/dataViewer/view/timeseries/\"\n",
    "#     url = website+this_data[0];\n",
    "\n",
    "#     response = requests.get(url)\n",
    "#     soup = bs(response.text, \"html.parser\")\n",
    "\n",
    "#     table_text = soup.find_all(\"table\",{\"id\": \"catalogDataTable1\"})\n",
    "#     try:\n",
    "#         this_state = table_text[0].find(\"tr\").find_all(\"td\")[2].text\n",
    "#         this_state = this_state.replace(\"Labor Force: \",\"\").replace(\" (S)\",\"\")\n",
    "#         State.append(this_state)\n",
    "\n",
    "#     except(IndexError):\n",
    "#         State.append(\"NA\")\n",
    "    \n",
    "\n",
    "    \n",
    "\n",
    "# for loop to iterate through the api data and grab all the important information\n",
    "# for i in Complete_Data[\"Results\"][\"series\"][0][\"data\"]:\n",
    "#     Years.append(i[\"year\"])\n",
    "#     Months.append(int(i[\"period\"].replace('M', '')))\n",
    "#     Unemployment_Rate.append(i[\"value\"])\n",
    "\n",
    "# Complete_Data\n",
    "\n"
   ]
  },
  {
   "cell_type": "code",
   "execution_count": 4,
   "metadata": {},
   "outputs": [],
   "source": [
    "Labor_Force_db = pd.DataFrame({\"State\":State,\n",
    "                              \"Labor Force\":Labor_Force});"
   ]
  },
  {
   "cell_type": "code",
   "execution_count": 7,
   "metadata": {},
   "outputs": [],
   "source": [
    "Labor_Force_db.to_csv(f\"../data/{SaveFileAs}\",index=False)"
   ]
  },
  {
   "cell_type": "code",
   "execution_count": null,
   "metadata": {},
   "outputs": [],
   "source": []
  }
 ],
 "metadata": {
  "kernelspec": {
   "display_name": "Python [conda env:PythonData]",
   "language": "python",
   "name": "conda-env-PythonData-py"
  },
  "language_info": {
   "codemirror_mode": {
    "name": "ipython",
    "version": 3
   },
   "file_extension": ".py",
   "mimetype": "text/x-python",
   "name": "python",
   "nbconvert_exporter": "python",
   "pygments_lexer": "ipython3",
   "version": "3.6.9"
  }
 },
 "nbformat": 4,
 "nbformat_minor": 2
}
